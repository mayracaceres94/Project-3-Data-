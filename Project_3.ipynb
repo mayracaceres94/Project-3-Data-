{
  "nbformat": 4,
  "nbformat_minor": 0,
  "metadata": {
    "colab": {
      "name": "Project 3",
      "provenance": [],
      "authorship_tag": "ABX9TyMZxexY4UuOjHQqh8jTUsME",
      "include_colab_link": true
    },
    "kernelspec": {
      "name": "python3",
      "display_name": "Python 3"
    },
    "language_info": {
      "name": "python"
    }
  },
  "cells": [
    {
      "cell_type": "markdown",
      "metadata": {
        "id": "view-in-github",
        "colab_type": "text"
      },
      "source": [
        "<a href=\"https://colab.research.google.com/github/mayracaceres94/Project-3-Data-/blob/main/Project_3.ipynb\" target=\"_parent\"><img src=\"https://colab.research.google.com/assets/colab-badge.svg\" alt=\"Open In Colab\"/></a>"
      ]
    },
    {
      "cell_type": "code",
      "metadata": {
        "id": "o5Snuf2ljc-L"
      },
      "source": [
        "import seaborn as sns\n",
        "%matplotlib inline"
      ],
      "execution_count": 1,
      "outputs": []
    },
    {
      "cell_type": "code",
      "metadata": {
        "id": "HhNNZoBgkpoT"
      },
      "source": [
        "import pandas as pd\n",
        "import numpy as np\n",
        "import io"
      ],
      "execution_count": 2,
      "outputs": []
    },
    {
      "cell_type": "code",
      "metadata": {
        "id": "7DdnoAl2krtt"
      },
      "source": [
        "import matplotlib.pyplot as plt\n"
      ],
      "execution_count": 3,
      "outputs": []
    },
    {
      "cell_type": "code",
      "metadata": {
        "id": "zckun_kNr23i"
      },
      "source": [
        "\n",
        "df = pd.read_csv('https://raw.githubusercontent.com/mayracaceres94/Project-3-Data-/main/weekly_data.csv')"
      ],
      "execution_count": 5,
      "outputs": []
    },
    {
      "cell_type": "code",
      "metadata": {
        "colab": {
          "base_uri": "https://localhost:8080/",
          "height": 204
        },
        "id": "O7HuRJfps-QB",
        "outputId": "60df4b49-b3e4-4e2d-883c-1462662e9173"
      },
      "source": [
        "df.head()"
      ],
      "execution_count": 6,
      "outputs": [
        {
          "output_type": "execute_result",
          "data": {
            "text/html": [
              "<div>\n",
              "<style scoped>\n",
              "    .dataframe tbody tr th:only-of-type {\n",
              "        vertical-align: middle;\n",
              "    }\n",
              "\n",
              "    .dataframe tbody tr th {\n",
              "        vertical-align: top;\n",
              "    }\n",
              "\n",
              "    .dataframe thead th {\n",
              "        text-align: right;\n",
              "    }\n",
              "</style>\n",
              "<table border=\"1\" class=\"dataframe\">\n",
              "  <thead>\n",
              "    <tr style=\"text-align: right;\">\n",
              "      <th></th>\n",
              "      <th>year</th>\n",
              "      <th>timeframe</th>\n",
              "      <th>week</th>\n",
              "      <th>counts_31_counters</th>\n",
              "      <th>covid_period</th>\n",
              "      <th>pedestrians_14_counters</th>\n",
              "      <th>bikes_14_counters</th>\n",
              "    </tr>\n",
              "  </thead>\n",
              "  <tbody>\n",
              "    <tr>\n",
              "      <th>0</th>\n",
              "      <td>2019</td>\n",
              "      <td>Week 1</td>\n",
              "      <td>2018-12-30</td>\n",
              "      <td>167679</td>\n",
              "      <td>N</td>\n",
              "      <td>68957.0</td>\n",
              "      <td>63100.0</td>\n",
              "    </tr>\n",
              "    <tr>\n",
              "      <th>1</th>\n",
              "      <td>2019</td>\n",
              "      <td>Week 2</td>\n",
              "      <td>2019-01-06</td>\n",
              "      <td>82340</td>\n",
              "      <td>N</td>\n",
              "      <td>34778.0</td>\n",
              "      <td>31703.0</td>\n",
              "    </tr>\n",
              "    <tr>\n",
              "      <th>2</th>\n",
              "      <td>2019</td>\n",
              "      <td>Week 3</td>\n",
              "      <td>2019-01-13</td>\n",
              "      <td>62315</td>\n",
              "      <td>N</td>\n",
              "      <td>32065.0</td>\n",
              "      <td>18082.0</td>\n",
              "    </tr>\n",
              "    <tr>\n",
              "      <th>3</th>\n",
              "      <td>2019</td>\n",
              "      <td>Week 4</td>\n",
              "      <td>2019-01-20</td>\n",
              "      <td>75801</td>\n",
              "      <td>N</td>\n",
              "      <td>35016.0</td>\n",
              "      <td>26280.0</td>\n",
              "    </tr>\n",
              "    <tr>\n",
              "      <th>4</th>\n",
              "      <td>2019</td>\n",
              "      <td>Week 5</td>\n",
              "      <td>2019-01-27</td>\n",
              "      <td>75841</td>\n",
              "      <td>N</td>\n",
              "      <td>33627.0</td>\n",
              "      <td>24447.0</td>\n",
              "    </tr>\n",
              "  </tbody>\n",
              "</table>\n",
              "</div>"
            ],
            "text/plain": [
              "   year timeframe  ... pedestrians_14_counters  bikes_14_counters\n",
              "0  2019    Week 1  ...                 68957.0            63100.0\n",
              "1  2019    Week 2  ...                 34778.0            31703.0\n",
              "2  2019    Week 3  ...                 32065.0            18082.0\n",
              "3  2019    Week 4  ...                 35016.0            26280.0\n",
              "4  2019    Week 5  ...                 33627.0            24447.0\n",
              "\n",
              "[5 rows x 7 columns]"
            ]
          },
          "metadata": {
            "tags": []
          },
          "execution_count": 6
        }
      ]
    },
    {
      "cell_type": "code",
      "metadata": {
        "colab": {
          "base_uri": "https://localhost:8080/",
          "height": 419
        },
        "id": "IsxLGQn0yNyW",
        "outputId": "b2e347f9-2195-4f3b-ba5f-5e2c5c5e6c4a"
      },
      "source": [
        "df.rename(columns={'year': 'Year', 'timeframe': 'Time Frame', 'week': 'Week', 'counts_31_counters': 'Counters', 'covid_period': 'Covid Period'}, inplace=True)\n",
        "display (df)\n"
      ],
      "execution_count": 7,
      "outputs": [
        {
          "output_type": "display_data",
          "data": {
            "text/html": [
              "<div>\n",
              "<style scoped>\n",
              "    .dataframe tbody tr th:only-of-type {\n",
              "        vertical-align: middle;\n",
              "    }\n",
              "\n",
              "    .dataframe tbody tr th {\n",
              "        vertical-align: top;\n",
              "    }\n",
              "\n",
              "    .dataframe thead th {\n",
              "        text-align: right;\n",
              "    }\n",
              "</style>\n",
              "<table border=\"1\" class=\"dataframe\">\n",
              "  <thead>\n",
              "    <tr style=\"text-align: right;\">\n",
              "      <th></th>\n",
              "      <th>Year</th>\n",
              "      <th>Time Frame</th>\n",
              "      <th>Week</th>\n",
              "      <th>Counters</th>\n",
              "      <th>Covid Period</th>\n",
              "      <th>pedestrians_14_counters</th>\n",
              "      <th>bikes_14_counters</th>\n",
              "    </tr>\n",
              "  </thead>\n",
              "  <tbody>\n",
              "    <tr>\n",
              "      <th>0</th>\n",
              "      <td>2019</td>\n",
              "      <td>Week 1</td>\n",
              "      <td>2018-12-30</td>\n",
              "      <td>167679</td>\n",
              "      <td>N</td>\n",
              "      <td>68957.0</td>\n",
              "      <td>63100.0</td>\n",
              "    </tr>\n",
              "    <tr>\n",
              "      <th>1</th>\n",
              "      <td>2019</td>\n",
              "      <td>Week 2</td>\n",
              "      <td>2019-01-06</td>\n",
              "      <td>82340</td>\n",
              "      <td>N</td>\n",
              "      <td>34778.0</td>\n",
              "      <td>31703.0</td>\n",
              "    </tr>\n",
              "    <tr>\n",
              "      <th>2</th>\n",
              "      <td>2019</td>\n",
              "      <td>Week 3</td>\n",
              "      <td>2019-01-13</td>\n",
              "      <td>62315</td>\n",
              "      <td>N</td>\n",
              "      <td>32065.0</td>\n",
              "      <td>18082.0</td>\n",
              "    </tr>\n",
              "    <tr>\n",
              "      <th>3</th>\n",
              "      <td>2019</td>\n",
              "      <td>Week 4</td>\n",
              "      <td>2019-01-20</td>\n",
              "      <td>75801</td>\n",
              "      <td>N</td>\n",
              "      <td>35016.0</td>\n",
              "      <td>26280.0</td>\n",
              "    </tr>\n",
              "    <tr>\n",
              "      <th>4</th>\n",
              "      <td>2019</td>\n",
              "      <td>Week 5</td>\n",
              "      <td>2019-01-27</td>\n",
              "      <td>75841</td>\n",
              "      <td>N</td>\n",
              "      <td>33627.0</td>\n",
              "      <td>24447.0</td>\n",
              "    </tr>\n",
              "    <tr>\n",
              "      <th>...</th>\n",
              "      <td>...</td>\n",
              "      <td>...</td>\n",
              "      <td>...</td>\n",
              "      <td>...</td>\n",
              "      <td>...</td>\n",
              "      <td>...</td>\n",
              "      <td>...</td>\n",
              "    </tr>\n",
              "    <tr>\n",
              "      <th>95</th>\n",
              "      <td>2020</td>\n",
              "      <td>Week 46</td>\n",
              "      <td>2020-11-08</td>\n",
              "      <td>155805</td>\n",
              "      <td>Y</td>\n",
              "      <td>96682.0</td>\n",
              "      <td>46105.0</td>\n",
              "    </tr>\n",
              "    <tr>\n",
              "      <th>96</th>\n",
              "      <td>2020</td>\n",
              "      <td>Week 47</td>\n",
              "      <td>2020-11-15</td>\n",
              "      <td>97835</td>\n",
              "      <td>Y</td>\n",
              "      <td>NaN</td>\n",
              "      <td>NaN</td>\n",
              "    </tr>\n",
              "    <tr>\n",
              "      <th>97</th>\n",
              "      <td>2020</td>\n",
              "      <td>Week 48</td>\n",
              "      <td>2020-11-22</td>\n",
              "      <td>101036</td>\n",
              "      <td>Y</td>\n",
              "      <td>NaN</td>\n",
              "      <td>NaN</td>\n",
              "    </tr>\n",
              "    <tr>\n",
              "      <th>98</th>\n",
              "      <td>2020</td>\n",
              "      <td>Week 49</td>\n",
              "      <td>2020-11-29</td>\n",
              "      <td>84123</td>\n",
              "      <td>Y</td>\n",
              "      <td>NaN</td>\n",
              "      <td>NaN</td>\n",
              "    </tr>\n",
              "    <tr>\n",
              "      <th>99</th>\n",
              "      <td>2020</td>\n",
              "      <td>Week 50</td>\n",
              "      <td>2020-12-06</td>\n",
              "      <td>92126</td>\n",
              "      <td>Y</td>\n",
              "      <td>NaN</td>\n",
              "      <td>NaN</td>\n",
              "    </tr>\n",
              "  </tbody>\n",
              "</table>\n",
              "<p>100 rows × 7 columns</p>\n",
              "</div>"
            ],
            "text/plain": [
              "    Year Time Frame  ... pedestrians_14_counters  bikes_14_counters\n",
              "0   2019     Week 1  ...                 68957.0            63100.0\n",
              "1   2019     Week 2  ...                 34778.0            31703.0\n",
              "2   2019     Week 3  ...                 32065.0            18082.0\n",
              "3   2019     Week 4  ...                 35016.0            26280.0\n",
              "4   2019     Week 5  ...                 33627.0            24447.0\n",
              "..   ...        ...  ...                     ...                ...\n",
              "95  2020    Week 46  ...                 96682.0            46105.0\n",
              "96  2020    Week 47  ...                     NaN                NaN\n",
              "97  2020    Week 48  ...                     NaN                NaN\n",
              "98  2020    Week 49  ...                     NaN                NaN\n",
              "99  2020    Week 50  ...                     NaN                NaN\n",
              "\n",
              "[100 rows x 7 columns]"
            ]
          },
          "metadata": {
            "tags": []
          }
        }
      ]
    },
    {
      "cell_type": "code",
      "metadata": {
        "colab": {
          "base_uri": "https://localhost:8080/",
          "height": 419
        },
        "id": "oyF2wWXGxLw0",
        "outputId": "28eeded2-dddf-4fb3-b92b-817c490ce877"
      },
      "source": [
        "df1 = df[['Year', 'Time Frame', 'Week', 'Counters', 'Covid Period']]\n",
        "display (df1)"
      ],
      "execution_count": 8,
      "outputs": [
        {
          "output_type": "display_data",
          "data": {
            "text/html": [
              "<div>\n",
              "<style scoped>\n",
              "    .dataframe tbody tr th:only-of-type {\n",
              "        vertical-align: middle;\n",
              "    }\n",
              "\n",
              "    .dataframe tbody tr th {\n",
              "        vertical-align: top;\n",
              "    }\n",
              "\n",
              "    .dataframe thead th {\n",
              "        text-align: right;\n",
              "    }\n",
              "</style>\n",
              "<table border=\"1\" class=\"dataframe\">\n",
              "  <thead>\n",
              "    <tr style=\"text-align: right;\">\n",
              "      <th></th>\n",
              "      <th>Year</th>\n",
              "      <th>Time Frame</th>\n",
              "      <th>Week</th>\n",
              "      <th>Counters</th>\n",
              "      <th>Covid Period</th>\n",
              "    </tr>\n",
              "  </thead>\n",
              "  <tbody>\n",
              "    <tr>\n",
              "      <th>0</th>\n",
              "      <td>2019</td>\n",
              "      <td>Week 1</td>\n",
              "      <td>2018-12-30</td>\n",
              "      <td>167679</td>\n",
              "      <td>N</td>\n",
              "    </tr>\n",
              "    <tr>\n",
              "      <th>1</th>\n",
              "      <td>2019</td>\n",
              "      <td>Week 2</td>\n",
              "      <td>2019-01-06</td>\n",
              "      <td>82340</td>\n",
              "      <td>N</td>\n",
              "    </tr>\n",
              "    <tr>\n",
              "      <th>2</th>\n",
              "      <td>2019</td>\n",
              "      <td>Week 3</td>\n",
              "      <td>2019-01-13</td>\n",
              "      <td>62315</td>\n",
              "      <td>N</td>\n",
              "    </tr>\n",
              "    <tr>\n",
              "      <th>3</th>\n",
              "      <td>2019</td>\n",
              "      <td>Week 4</td>\n",
              "      <td>2019-01-20</td>\n",
              "      <td>75801</td>\n",
              "      <td>N</td>\n",
              "    </tr>\n",
              "    <tr>\n",
              "      <th>4</th>\n",
              "      <td>2019</td>\n",
              "      <td>Week 5</td>\n",
              "      <td>2019-01-27</td>\n",
              "      <td>75841</td>\n",
              "      <td>N</td>\n",
              "    </tr>\n",
              "    <tr>\n",
              "      <th>...</th>\n",
              "      <td>...</td>\n",
              "      <td>...</td>\n",
              "      <td>...</td>\n",
              "      <td>...</td>\n",
              "      <td>...</td>\n",
              "    </tr>\n",
              "    <tr>\n",
              "      <th>95</th>\n",
              "      <td>2020</td>\n",
              "      <td>Week 46</td>\n",
              "      <td>2020-11-08</td>\n",
              "      <td>155805</td>\n",
              "      <td>Y</td>\n",
              "    </tr>\n",
              "    <tr>\n",
              "      <th>96</th>\n",
              "      <td>2020</td>\n",
              "      <td>Week 47</td>\n",
              "      <td>2020-11-15</td>\n",
              "      <td>97835</td>\n",
              "      <td>Y</td>\n",
              "    </tr>\n",
              "    <tr>\n",
              "      <th>97</th>\n",
              "      <td>2020</td>\n",
              "      <td>Week 48</td>\n",
              "      <td>2020-11-22</td>\n",
              "      <td>101036</td>\n",
              "      <td>Y</td>\n",
              "    </tr>\n",
              "    <tr>\n",
              "      <th>98</th>\n",
              "      <td>2020</td>\n",
              "      <td>Week 49</td>\n",
              "      <td>2020-11-29</td>\n",
              "      <td>84123</td>\n",
              "      <td>Y</td>\n",
              "    </tr>\n",
              "    <tr>\n",
              "      <th>99</th>\n",
              "      <td>2020</td>\n",
              "      <td>Week 50</td>\n",
              "      <td>2020-12-06</td>\n",
              "      <td>92126</td>\n",
              "      <td>Y</td>\n",
              "    </tr>\n",
              "  </tbody>\n",
              "</table>\n",
              "<p>100 rows × 5 columns</p>\n",
              "</div>"
            ],
            "text/plain": [
              "    Year Time Frame        Week  Counters Covid Period\n",
              "0   2019     Week 1  2018-12-30    167679            N\n",
              "1   2019     Week 2  2019-01-06     82340            N\n",
              "2   2019     Week 3  2019-01-13     62315            N\n",
              "3   2019     Week 4  2019-01-20     75801            N\n",
              "4   2019     Week 5  2019-01-27     75841            N\n",
              "..   ...        ...         ...       ...          ...\n",
              "95  2020    Week 46  2020-11-08    155805            Y\n",
              "96  2020    Week 47  2020-11-15     97835            Y\n",
              "97  2020    Week 48  2020-11-22    101036            Y\n",
              "98  2020    Week 49  2020-11-29     84123            Y\n",
              "99  2020    Week 50  2020-12-06     92126            Y\n",
              "\n",
              "[100 rows x 5 columns]"
            ]
          },
          "metadata": {
            "tags": []
          }
        }
      ]
    },
    {
      "cell_type": "code",
      "metadata": {
        "colab": {
          "base_uri": "https://localhost:8080/",
          "height": 386
        },
        "id": "CsFlbrh-IJh5",
        "outputId": "9f41bfcb-b2f0-4065-fa26-d27e77eb9fa3"
      },
      "source": [
        "sns.displot(df1['Covid Period'])"
      ],
      "execution_count": 41,
      "outputs": [
        {
          "output_type": "execute_result",
          "data": {
            "text/plain": [
              "<seaborn.axisgrid.FacetGrid at 0x7f27923a9690>"
            ]
          },
          "metadata": {
            "tags": []
          },
          "execution_count": 41
        },
        {
          "output_type": "display_data",
          "data": {
            "image/png": "[encoded data removed]",
            "text/plain": [
              "<Figure size 360x360 with 1 Axes>"
            ]
          },
          "metadata": {
            "tags": [],
            "needs_background": "light"
          }
        }
      ]
    },
    {
      "cell_type": "code",
      "metadata": {
        "colab": {
          "base_uri": "https://localhost:8080/",
          "height": 419
        },
        "id": "n5zXnbkl3ZoU",
        "outputId": "608cef87-4ff8-4b37-dd80-12ae73aa0def"
      },
      "source": [
        "#delete rows of no COVID period \n",
        "df2= df1.drop(df1.index[[0,1 ,2 ,3 ,4 ,5 ,6 ,7, 8, 9, 10, 50, 51, 52, 53, 54, 55, 56, 57, 58, 59, 60]])\n",
        "display (df2)"
      ],
      "execution_count": 33,
      "outputs": [
        {
          "output_type": "display_data",
          "data": {
            "text/html": [
              "<div>\n",
              "<style scoped>\n",
              "    .dataframe tbody tr th:only-of-type {\n",
              "        vertical-align: middle;\n",
              "    }\n",
              "\n",
              "    .dataframe tbody tr th {\n",
              "        vertical-align: top;\n",
              "    }\n",
              "\n",
              "    .dataframe thead th {\n",
              "        text-align: right;\n",
              "    }\n",
              "</style>\n",
              "<table border=\"1\" class=\"dataframe\">\n",
              "  <thead>\n",
              "    <tr style=\"text-align: right;\">\n",
              "      <th></th>\n",
              "      <th>Year</th>\n",
              "      <th>Time Frame</th>\n",
              "      <th>Week</th>\n",
              "      <th>Counters</th>\n",
              "      <th>Covid Period</th>\n",
              "    </tr>\n",
              "  </thead>\n",
              "  <tbody>\n",
              "    <tr>\n",
              "      <th>11</th>\n",
              "      <td>2019</td>\n",
              "      <td>Week 12</td>\n",
              "      <td>2019-03-17</td>\n",
              "      <td>125440</td>\n",
              "      <td>Y</td>\n",
              "    </tr>\n",
              "    <tr>\n",
              "      <th>12</th>\n",
              "      <td>2019</td>\n",
              "      <td>Week 13</td>\n",
              "      <td>2019-03-24</td>\n",
              "      <td>136330</td>\n",
              "      <td>Y</td>\n",
              "    </tr>\n",
              "    <tr>\n",
              "      <th>13</th>\n",
              "      <td>2019</td>\n",
              "      <td>Week 14</td>\n",
              "      <td>2019-03-31</td>\n",
              "      <td>118784</td>\n",
              "      <td>Y</td>\n",
              "    </tr>\n",
              "    <tr>\n",
              "      <th>14</th>\n",
              "      <td>2019</td>\n",
              "      <td>Week 15</td>\n",
              "      <td>2019-04-07</td>\n",
              "      <td>132033</td>\n",
              "      <td>Y</td>\n",
              "    </tr>\n",
              "    <tr>\n",
              "      <th>15</th>\n",
              "      <td>2019</td>\n",
              "      <td>Week 16</td>\n",
              "      <td>2019-04-14</td>\n",
              "      <td>133267</td>\n",
              "      <td>Y</td>\n",
              "    </tr>\n",
              "    <tr>\n",
              "      <th>...</th>\n",
              "      <td>...</td>\n",
              "      <td>...</td>\n",
              "      <td>...</td>\n",
              "      <td>...</td>\n",
              "      <td>...</td>\n",
              "    </tr>\n",
              "    <tr>\n",
              "      <th>95</th>\n",
              "      <td>2020</td>\n",
              "      <td>Week 46</td>\n",
              "      <td>2020-11-08</td>\n",
              "      <td>155805</td>\n",
              "      <td>Y</td>\n",
              "    </tr>\n",
              "    <tr>\n",
              "      <th>96</th>\n",
              "      <td>2020</td>\n",
              "      <td>Week 47</td>\n",
              "      <td>2020-11-15</td>\n",
              "      <td>97835</td>\n",
              "      <td>Y</td>\n",
              "    </tr>\n",
              "    <tr>\n",
              "      <th>97</th>\n",
              "      <td>2020</td>\n",
              "      <td>Week 48</td>\n",
              "      <td>2020-11-22</td>\n",
              "      <td>101036</td>\n",
              "      <td>Y</td>\n",
              "    </tr>\n",
              "    <tr>\n",
              "      <th>98</th>\n",
              "      <td>2020</td>\n",
              "      <td>Week 49</td>\n",
              "      <td>2020-11-29</td>\n",
              "      <td>84123</td>\n",
              "      <td>Y</td>\n",
              "    </tr>\n",
              "    <tr>\n",
              "      <th>99</th>\n",
              "      <td>2020</td>\n",
              "      <td>Week 50</td>\n",
              "      <td>2020-12-06</td>\n",
              "      <td>92126</td>\n",
              "      <td>Y</td>\n",
              "    </tr>\n",
              "  </tbody>\n",
              "</table>\n",
              "<p>78 rows × 5 columns</p>\n",
              "</div>"
            ],
            "text/plain": [
              "    Year Time Frame        Week  Counters Covid Period\n",
              "11  2019    Week 12  2019-03-17    125440            Y\n",
              "12  2019    Week 13  2019-03-24    136330            Y\n",
              "13  2019    Week 14  2019-03-31    118784            Y\n",
              "14  2019    Week 15  2019-04-07    132033            Y\n",
              "15  2019    Week 16  2019-04-14    133267            Y\n",
              "..   ...        ...         ...       ...          ...\n",
              "95  2020    Week 46  2020-11-08    155805            Y\n",
              "96  2020    Week 47  2020-11-15     97835            Y\n",
              "97  2020    Week 48  2020-11-22    101036            Y\n",
              "98  2020    Week 49  2020-11-29     84123            Y\n",
              "99  2020    Week 50  2020-12-06     92126            Y\n",
              "\n",
              "[78 rows x 5 columns]"
            ]
          },
          "metadata": {
            "tags": []
          }
        }
      ]
    },
    {
      "cell_type": "code",
      "metadata": {
        "colab": {
          "base_uri": "https://localhost:8080/",
          "height": 214
        },
        "id": "e0by0hVFEFPS",
        "outputId": "a4416a87-2572-4bbb-cd94-76b0867c9638"
      },
      "source": [
        "sns.pairplot(df2, hue = 'Year')"
      ],
      "execution_count": 34,
      "outputs": [
        {
          "output_type": "execute_result",
          "data": {
            "text/plain": [
              "<seaborn.axisgrid.PairGrid at 0x7f27a2976390>"
            ]
          },
          "metadata": {
            "tags": []
          },
          "execution_count": 34
        },
        {
          "output_type": "display_data",
          "data": {
            "image/png": "[encoded data removed]",
            "text/plain": [
              "<Figure size 209x180 with 2 Axes>"
            ]
          },
          "metadata": {
            "tags": [],
            "needs_background": "light"
          }
        }
      ]
    },
    {
      "cell_type": "code",
      "metadata": {
        "colab": {
          "base_uri": "https://localhost:8080/",
          "height": 296
        },
        "id": "U-dik6TDEucf",
        "outputId": "8b9665f9-e6a4-4846-f42a-bea4f2d9d61a"
      },
      "source": [
        "#show the relationship of time frame (weeks) and the counters in relation to te years in which COVID was active. \n",
        "\n",
        "sns.scatterplot(x=\"Time Frame\", y= 'Counters', hue= 'Year', data=df2)\n",
        "\n",
        "#it seems like 2020 had a higher number of counters, which indicates more bikes were in circulation  compared to 2019 when there were no COVID restrictions. "
      ],
      "execution_count": 37,
      "outputs": [
        {
          "output_type": "execute_result",
          "data": {
            "text/plain": [
              "<matplotlib.axes._subplots.AxesSubplot at 0x7f2797080610>"
            ]
          },
          "metadata": {
            "tags": []
          },
          "execution_count": 37
        },
        {
          "output_type": "display_data",
          "data": {
            "image/png": "[encoded data removed]",
            "text/plain": [
              "<Figure size 432x288 with 1 Axes>"
            ]
          },
          "metadata": {
            "tags": [],
            "needs_background": "light"
          }
        }
      ]
    }
  ]
}